{
 "cells": [
  {
   "cell_type": "code",
   "execution_count": 1,
   "id": "animated-decade",
   "metadata": {},
   "outputs": [],
   "source": [
    "import numpy as np\n",
    "import math \n",
    "import random"
   ]
  },
  {
   "cell_type": "code",
   "execution_count": 6,
   "id": "understood-principle",
   "metadata": {},
   "outputs": [
    {
     "name": "stdout",
     "output_type": "stream",
     "text": [
      "[ 0.243872 -0.009586 -0.469552 -0.356934 -0.454576  0.860927 -1.221758\n",
      " -0.678661 -0.916995  0.573963 -0.036462 -0.591796 -0.410743 -0.463287\n",
      " -0.198859 -0.525551 -2.628285]\n"
     ]
    }
   ],
   "source": [
    "patterns = []\n",
    "classes = []\n",
    "\n",
    "filename = 'normalized_data.txt'\n",
    "file = open(filename,'r')\n",
    "\n",
    "for line in file.readlines():\n",
    "    row = line.strip().split(' ')\n",
    "    patterns.append(row[0:])\n",
    "    \n",
    "file.close\n",
    "\n",
    "patterns = np.asarray(patterns,dtype=np.float32)\n",
    "print(str(patterns[int(\"16\")]))"
   ]
  },
  {
   "cell_type": "code",
   "execution_count": 8,
   "id": "native-bulletin",
   "metadata": {},
   "outputs": [
    {
     "data": {
      "text/plain": [
       "(8950, 17)"
      ]
     },
     "execution_count": 8,
     "metadata": {},
     "output_type": "execute_result"
    }
   ],
   "source": [
    "patterns.shape"
   ]
  },
  {
   "cell_type": "code",
   "execution_count": 9,
   "id": "armed-tulsa",
   "metadata": {},
   "outputs": [
    {
     "name": "stdout",
     "output_type": "stream",
     "text": [
      "Heuristic computed appropriate no. of maps units: 2803\n"
     ]
    }
   ],
   "source": [
    "def mapunits(input_len,size='small'):\n",
    "    heuristic_map_units = 5*input_len**0.54321\n",
    "    if size == 'big':\n",
    "        heuristic_map_units = 4*(heuristic_map_units)\n",
    "    else:\n",
    "        heuristic_map_units = 0.25*(heuristic_map_units)\n",
    "    return heuristic_map_units\n",
    "\n",
    "map_units = mapunits(len(patterns),size='big')\n",
    "print(\"Heuristic computed appropriate no. of maps units: \"+str(int(map_units)))"
   ]
  },
  {
   "cell_type": "code",
   "execution_count": 11,
   "id": "designing-float",
   "metadata": {},
   "outputs": [
    {
     "name": "stdout",
     "output_type": "stream",
     "text": [
      "Lower error found: 0.9787299754273646 at epoch: 2\n",
      "\tLearning rate: 0.09960000000000001\n",
      "\tNeighbourhood radius: 4.482035952047962\n",
      "Lower error found: 0.8797248221153144 at epoch: 3\n",
      "\tLearning rate: 0.0994\n",
      "\tNeighbourhood radius: 4.4730808382427085\n",
      "Lower error found: 0.8437964402890092 at epoch: 21\n",
      "\tLearning rate: 0.0958\n",
      "\tNeighbourhood radius: 4.31491401257618\n",
      "Lower error found: 0.5946333756612003 at epoch: 28\n",
      "\tLearning rate: 0.0944\n",
      "\tNeighbourhood radius: 4.254926111506784\n",
      "Lower error found: 0.5441936859614029 at epoch: 82\n",
      "\tLearning rate: 0.08360000000000001\n",
      "\tNeighbourhood radius: 3.8193390984609303\n",
      "Lower error found: 0.45465921670976794 at epoch: 91\n",
      "\tLearning rate: 0.08180000000000001\n",
      "\tNeighbourhood radius: 3.751206031870809\n",
      "Lower error found: 0.4140635377749641 at epoch: 122\n",
      "\tLearning rate: 0.0756\n",
      "\tNeighbourhood radius: 3.5256943541828814\n",
      "Lower error found: 0.3280238239922242 at epoch: 158\n",
      "\tLearning rate: 0.0684\n",
      "\tNeighbourhood radius: 3.2807675257543067\n",
      "Lower error found: 0.29045025251764794 at epoch: 234\n",
      "\tLearning rate: 0.053200000000000004\n",
      "\tNeighbourhood radius: 2.8181408564590016\n",
      "Lower error found: 0.28818175508022165 at epoch: 243\n",
      "\tLearning rate: 0.0514\n",
      "\tNeighbourhood radius: 2.767868132910879\n",
      "Lower error found: 0.2824708224597595 at epoch: 266\n",
      "\tLearning rate: 0.0468\n",
      "\tNeighbourhood radius: 2.6434302127403555\n",
      "Lower error found: 0.2175067730758532 at epoch: 305\n",
      "\tLearning rate: 0.03900000000000001\n",
      "\tNeighbourhood radius: 2.445078910835249\n",
      "Lower error found: 0.216176172071116 at epoch: 309\n",
      "\tLearning rate: 0.038200000000000005\n",
      "\tNeighbourhood radius: 2.4255963138436067\n",
      "Lower error found: 0.213404986032377 at epoch: 320\n",
      "\tLearning rate: 0.036\n",
      "\tNeighbourhood radius: 2.3728159081937186\n",
      "Lower error found: 0.20295157371663428 at epoch: 321\n",
      "\tLearning rate: 0.0358\n",
      "\tNeighbourhood radius: 2.368075018846974\n",
      "Lower error found: 0.1982141273743186 at epoch: 331\n",
      "\tLearning rate: 0.0338\n",
      "\tNeighbourhood radius: 2.3211839917646735\n",
      "Lower error found: 0.17225460886580207 at epoch: 335\n",
      "\tLearning rate: 0.032999999999999995\n",
      "\tNeighbourhood radius: 2.302688600039441\n",
      "Lower error found: 0.15962870241595725 at epoch: 354\n",
      "\tLearning rate: 0.029200000000000004\n",
      "\tNeighbourhood radius: 2.2168281141006094\n",
      "Lower error found: 0.13253372416253606 at epoch: 366\n",
      "\tLearning rate: 0.026800000000000004\n",
      "\tNeighbourhood radius: 2.1642576087860013\n",
      "Lower error found: 0.13064241443151492 at epoch: 376\n",
      "\tLearning rate: 0.024800000000000003\n",
      "\tNeighbourhood radius: 2.121402436826089\n",
      "Lower error found: 0.12207579868836231 at epoch: 378\n",
      "\tLearning rate: 0.0244\n",
      "\tNeighbourhood radius: 2.1129337756925968\n",
      "Lower error found: 0.11308636441801714 at epoch: 383\n",
      "\tLearning rate: 0.0234\n",
      "\tNeighbourhood radius: 2.0919097333474572\n",
      "Lower error found: 0.1114421955091159 at epoch: 388\n",
      "\tLearning rate: 0.0224\n",
      "\tNeighbourhood radius: 2.0710948837189167\n",
      "Lower error found: 0.10208260229759655 at epoch: 393\n",
      "\tLearning rate: 0.0214\n",
      "\tNeighbourhood radius: 2.0504871453046656\n",
      "Lower error found: 0.08382055368461258 at epoch: 406\n",
      "\tLearning rate: 0.018799999999999997\n",
      "\tNeighbourhood radius: 1.9978615764620102\n",
      "Lower error found: 0.038778615788733574 at epoch: 412\n",
      "\tLearning rate: 0.017600000000000005\n",
      "\tNeighbourhood radius: 1.9740305099158555\n",
      "Lower error found: 0.0311971878492596 at epoch: 451\n",
      "\tLearning rate: 0.009799999999999998\n",
      "\tNeighbourhood radius: 1.8259079985837694\n",
      "Lower error found: 0.027521056047844585 at epoch: 458\n",
      "\tLearning rate: 0.008399999999999996\n",
      "\tNeighbourhood radius: 1.8005233934533722\n",
      "Lower error found: 0.022172839412465485 at epoch: 465\n",
      "\tLearning rate: 0.006999999999999996\n",
      "\tNeighbourhood radius: 1.775491696672205\n",
      "Lower error found: 0.01845029353489632 at epoch: 469\n",
      "\tLearning rate: 0.006200000000000006\n",
      "\tNeighbourhood radius: 1.7613444276270294\n",
      "Lower error found: 0.015327339719901065 at epoch: 480\n",
      "\tLearning rate: 0.0040000000000000036\n",
      "\tNeighbourhood radius: 1.7230179868880042\n",
      "Lower error found: 0.014186733186683327 at epoch: 481\n",
      "\tLearning rate: 0.0038000000000000035\n",
      "\tNeighbourhood radius: 1.719575394653993\n",
      "Lower error found: 0.012500975622158598 at epoch: 485\n",
      "\tLearning rate: 0.0030000000000000027\n",
      "\tNeighbourhood radius: 1.7058736714652947\n",
      "Lower error found: 0.009898703028237688 at epoch: 486\n",
      "\tLearning rate: 0.0028000000000000026\n",
      "\tNeighbourhood radius: 1.7024653335963458\n",
      "Lower error found: 0.005771814301994535 at epoch: 488\n",
      "\tLearning rate: 0.0024000000000000024\n",
      "\tNeighbourhood radius: 1.695669073843144\n",
      "Lower error found: 0.00569324261250229 at epoch: 494\n",
      "\tLearning rate: 0.0012000000000000012\n",
      "\tNeighbourhood radius: 1.6754426462391985\n",
      "Lower error found: 0.0051160110873971825 at epoch: 495\n",
      "\tLearning rate: 0.0010000000000000009\n",
      "\tNeighbourhood radius: 1.6720951095992058\n",
      "Lower error found: 0.0024388117936996524 at epoch: 496\n",
      "\tLearning rate: 0.0008000000000000008\n",
      "\tNeighbourhood radius: 1.6687542613418804\n",
      "Lower error found: 0.0019966941121471273 at epoch: 497\n",
      "\tLearning rate: 0.0006000000000000006\n",
      "\tNeighbourhood radius: 1.6654200881038257\n",
      "Lower error found: 0.0009720521823958177 at epoch: 498\n",
      "\tLearning rate: 0.0004000000000000004\n",
      "\tNeighbourhood radius: 1.662092576548344\n"
     ]
    }
   ],
   "source": [
    "import matplotlib.pyplot as plt\n",
    "%matplotlib inline\n",
    "\n",
    "def Eucli_dists(MAP,x):\n",
    "    x = x.reshape((1,1,-1))\n",
    "    #print(x)\n",
    "    Eucli_MAP = MAP - x\n",
    "    Eucli_MAP = Eucli_MAP**2\n",
    "    Eucli_MAP = np.sqrt(np.sum(Eucli_MAP,2))\n",
    "    return Eucli_MAP\n",
    "\n",
    "input_dimensions = 17\n",
    "\n",
    "map_width = 9\n",
    "map_height = 5\n",
    "MAP = np.random.uniform(size=(map_height,map_width,input_dimensions))\n",
    "prev_MAP = np.zeros((map_height,map_width,input_dimensions))\n",
    "\n",
    "radius0 = max(map_width,map_height)/2\n",
    "learning_rate0 = 0.1\n",
    "\n",
    "coordinate_map = np.zeros([map_height,map_width,2],dtype=np.int32)\n",
    "\n",
    "for i in range(0,map_height):\n",
    "    for j in range(0,map_width):\n",
    "        coordinate_map[i][j] = [i,j]\n",
    "\n",
    "epochs = 500\n",
    "radius=radius0\n",
    "learning_rate = learning_rate0\n",
    "max_iterations = len(patterns)+1\n",
    "too_many_iterations = 10*max_iterations\n",
    "\n",
    "convergence = [1]\n",
    "\n",
    "timestep=1\n",
    "e=0.001 \n",
    "flag=0\n",
    "\n",
    "epoch=0\n",
    "while epoch<epochs:\n",
    "    \n",
    "    shuffle = np.random.randint(len(patterns), size=len(patterns))\n",
    "    for i in range(len(patterns)):\n",
    "        \n",
    "        # difference between prev_MAP and MAP\n",
    "        J = np.linalg.norm(MAP - prev_MAP)\n",
    "        #print(J)\n",
    "        # J = || euclidean distance between previous MAP and current MAP  ||\n",
    "\n",
    "        if  J <= e: #if converged (convergence criteria)\n",
    "            flag=1\n",
    "            break\n",
    "            \n",
    "        else:\n",
    "            \n",
    "            #if timestep == max_iterations and timestep != too_many_iterations:\n",
    "            #    epochs += 1\n",
    "            #    max_iterations = epochs*len(patterns)\n",
    "            \n",
    "            pattern = patterns[shuffle[i]]\n",
    "            pattern_ary = np.tile(pattern, (map_height, map_width, 1))\n",
    "            Eucli_MAP = np.linalg.norm(pattern_ary - MAP, axis=2)\n",
    "            \n",
    "            # Get the best matching unit(BMU) which is the one with the smallest Euclidean distance\n",
    "            BMU = np.unravel_index(np.argmin(Eucli_MAP, axis=None), Eucli_MAP.shape)\n",
    "            #BMU[1] = np.argmin(Eucli_MAP, 1)[int(BMU[0])]\n",
    "    \n",
    "            #Eucli_from_BMU = Eucli_dists(coordinate_map,BMU)  \n",
    "        \n",
    "            prev_MAP = np.copy(MAP)\n",
    "             \n",
    "            for i in range(map_height):\n",
    "                for j in range(map_width):\n",
    "                    distance = np.linalg.norm([i - BMU[0], j - BMU[1]])\n",
    "                    if distance <= radius:\n",
    "                        #theta = math.exp(-(distance**2)/(2*(radius**2)))\n",
    "                        MAP[i][j] = MAP[i][j] + learning_rate*(pattern-MAP[i][j])\n",
    "            \n",
    "            learning_rate = learning_rate0*(1-(epoch/epochs))\n",
    "            #time_constant = max_iterations/math.log(radius) \n",
    "            radius = radius0*math.exp(-epoch/epochs)\n",
    "            #print([learning_rate, radius])\n",
    "            \n",
    "            timestep+=1\n",
    "    \n",
    "    if J < min(convergence):\n",
    "        print('Lower error found: %s' %str(J) + ' at epoch: %s' % str(epoch))\n",
    "        print('\\tLearning rate: ' + str(learning_rate))\n",
    "        print('\\tNeighbourhood radius: ' + str(radius))\n",
    "        MAP_final = MAP\n",
    "    convergence.append(J)\n",
    "    \n",
    "    if flag==1:\n",
    "        break\n",
    "    epoch+=1\n"
   ]
  },
  {
   "cell_type": "code",
   "execution_count": 14,
   "id": "czech-egypt",
   "metadata": {},
   "outputs": [
    {
     "data": {
      "image/png": "[encoded data removed]",
      "text/plain": [
       "<Figure size 432x288 with 1 Axes>"
      ]
     },
     "metadata": {
      "needs_background": "light"
     },
     "output_type": "display_data"
    },
    {
     "name": "stdout",
     "output_type": "stream",
     "text": [
      "Number of timestamps: 4457249\n",
      "Final Error: 0.0009720521823958177\n"
     ]
    }
   ],
   "source": [
    "plt.plot(convergence)\n",
    "plt.ylabel('error')\n",
    "plt.xlabel('epoch')\n",
    "plt.grid(True)\n",
    "plt.yscale('log')\n",
    "plt.show()\n",
    "print('Number of timestamps: '+str(timestep))\n",
    "print('Final Error: '+str(J))"
   ]
  },
  {
   "cell_type": "code",
   "execution_count": null,
   "id": "hundred-norman",
   "metadata": {},
   "outputs": [],
   "source": []
  }
 ],
 "metadata": {
  "kernelspec": {
   "display_name": "m1_tensorflow",
   "language": "python",
   "name": "m1_tensorflow"
  },
  "language_info": {
   "codemirror_mode": {
    "name": "ipython",
    "version": 3
   },
   "file_extension": ".py",
   "mimetype": "text/x-python",
   "name": "python",
   "nbconvert_exporter": "python",
   "pygments_lexer": "ipython3",
   "version": "3.8.8"
  }
 },
 "nbformat": 4,
 "nbformat_minor": 5
}
